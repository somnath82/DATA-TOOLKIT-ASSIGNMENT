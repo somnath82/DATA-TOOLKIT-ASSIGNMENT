{
  "nbformat": 4,
  "nbformat_minor": 0,
  "metadata": {
    "colab": {
      "provenance": []
    },
    "kernelspec": {
      "name": "python3",
      "display_name": "Python 3"
    },
    "language_info": {
      "name": "python"
    }
  },
  "cells": [
    {
      "cell_type": "markdown",
      "source": [],
      "metadata": {
        "id": "AcKjgHIg_deu"
      }
    },
    {
      "cell_type": "markdown",
      "source": [
        "                             ----DATA TOOLKIT ASSIGNMENT----\n",
        "                                \n",
        "                            ---THEORY QUESTION AND ANSWER---\n",
        "\n",
        "\n",
        "        \n",
        "\n",
        "(1) What is NumPy ? and why is it widely used in python?\n",
        "\n",
        "ans: NumPy(numerical python) is a powerful python library used for scientific computing.\n",
        "It provides:\n",
        "\n",
        "\n",
        "1 ndarray(N-dimensional array): A fast,\n",
        "memory-efficient, multi-dimensional array object.\n",
        "\n",
        "2 Mathematical functions: Linear algebra,statictics,Fourier transforms,random number generation, etc.\n",
        "\n",
        "3 Vectorized operations: Perform element-wise operations without explicit loops.\n",
        "\n",
        "It is widely used because:\n",
        "\n",
        "1 Performance- NumPy arrays are stored more compactly than Python lists.\n",
        "\n",
        "2 Convenient Syantax- Array broadcasting lets you apply operations on arrays of diffrent shapes without writing extra code.\n",
        "\n",
        "3 Foundation for Data science and Machine Learning- Libraries like pandas,Scxlit-learn, TensorFlow, Pytorch are built on top of numpy.\n",
        "\n",
        "4 Supports Linear Algebra & Matrix operations- Essential for machine learning,physics simulations,image processing, etc.\n",
        "\n",
        "\n",
        "\n",
        "(2) How does broadcasting work in Numpy?\n",
        "\n",
        "ans: Broadcasting is numpy way of automatically expanding arrays of diffrent shapes so they can be used together in arithmetic operations.\n",
        "\n",
        "Broadcasting Rules:\n",
        "\n",
        "When operating on two arrays, NumPy compares their shapes element by element(from right to left):\n",
        "\n",
        "1  If the dimensions are equal- they're compatible.\n",
        "\n",
        "2  If one of them is 1 - it gets streched to match the other dimension.\n",
        "\n",
        "3 If they'are not equal and not 1- operations is not possible.\n",
        "\n",
        "\n",
        "\n",
        "(3) What is a Pandas DataFrame?\n",
        "\n",
        "Ans: A DataFrame in pandas is a 2-dimensional,tabular data structure(like an excel spreadsheet or SQL table).\n",
        "\n",
        "It has rows and columns.\n",
        "\n",
        "Each column can hold data of diffrent types (int,float,string.etc)\n",
        "\n",
        "It is labeled- rows have an index, and columns have names.\n",
        "\n",
        "Think of it as a dictionary of series(1D arrays) that all share the same4 row index.\n",
        "\n",
        "A pandas DataFrame = a powerful 2D labled data structure for organizing and analyzing data.its the copre tool in data analysis with python.\n",
        "\n",
        "\n",
        "(4).Explain the use of the groupby() method in pandas?\n",
        "\n",
        "ans: The groupby() method is used to split data into groups based on one or more columns, then applyu a function(like sum,mean,count,etc.) to each group, and finsally combine the results.\n",
        "\n",
        "\n",
        "The groupby() uses for some benefits-\n",
        "\n",
        "Summaried large data sets quickly.\n",
        "\n",
        "perform operations  on groups independently.\n",
        "\n",
        "Useful in Data aggregation,reporting,and pivot tables.\n",
        "\n",
        "\n",
        "(5) Why is seaborn preferred for Statistical Visulization ?\n",
        "\n",
        "ans: Seaborn is a python data Visulization library biuilt on top of matplotlib, desiogned specially for statistical graphisc. It is widely preferred in data analysis and machine learning becuse of thje following reason:\n",
        "\n",
        "1 High-level interface(easier than Matplotlib)\n",
        "\n",
        "2 beutiful & informative defaults\n",
        "\n",
        "3 Built-in Statistical Functions\n",
        "\n",
        "4 Integration with Pandas\n",
        "\n",
        "5 Automatic Aggregation\n",
        "\n",
        "6 Complex Visulaization Made simple\n",
        "\n",
        "\n",
        "seaborn is preferred becuse it ios simpler, more beutiful, and stratistically aware compared to Matplotlib,making it deal for data exploration and analysis.\n",
        "\n",
        "\n",
        "(6) What are the diffrences  between Numpy arrays python lists ?\n",
        "\n",
        "Ans: There are the some different between Numpy arrays and python list.\n",
        "These are:\n",
        "\n",
        "1  Storage and Data type- Python lists can store mixed data types (e.g- [1, \"hello\", 3.5]) . NumPy array stores element of the same data types.\n",
        "\n",
        "2 performance(speed)- Python List good for general-purpose storage and flexibkle data handling. Numpy array rich set of mathematical operations like linear algrbra , statistics, broadcasting etc.\n",
        "\n",
        "3  Size- Python list can vbe realized dynamically(append, insert etc)\n",
        " NumPy array fixed size once created. for resizing, you usually create a new array.\n",
        "\n",
        "\n",
        "Use lists for general-purpose programming.\n",
        "Use NumPy arrays when you need fast numericxal computations.\n",
        "\n",
        "\n",
        "(7) What is a heat map, and when should it be used ?\n",
        "\n",
        "ans: A Heatmap is a type of data visulization that represents data va;lues as colors in a grid or matrix.\n",
        "\n",
        "Rows and columns usually represt two variables .\n",
        "The color intensity represents the magnitude of the value.\n",
        "\n",
        "Heatmap usually use for:\n",
        "\n",
        "1 correlation Analysis- Visulizing correlations betwen fetures in a dataset.\n",
        "\n",
        "2 large data Tables - When you have matrix of values (e.g exam scores , gene expression date).\n",
        "\n",
        "3 Pattern Recognition- Identify clusters, trends, or anomalies in data\n",
        "\n",
        "4 Categorical vs Continuous- Visulizing pivot tables.\n",
        "\n",
        "\n",
        "(8) What does the term \"Vectorized\" operatation mean in NumPy?\n",
        "\n",
        "ans: In NumPy, a vectorized  operstion means applying an operation to an entire array(or large chunks of data) at once. instead of looping through elements one by one in python.\n",
        "\n",
        "The heavy lifting is done in optimized C code under the hood.\n",
        "\n",
        "This makes it much faster than using Python loops.\n",
        "\n",
        "(9) How does Matplotlib differ from plotly ?\n",
        "\n",
        "ans: Both Matplotlib and plotly are popular bpython plotting libraries, but they serve diffrent purposes.\n",
        "\n",
        "1. interactivity-\n",
        "\n",
        "matplotlib:\n",
        "\n",
        "By default: static plots(images)\n",
        "\n",
        "Limited interactivity(zoom/pan in jupyter or using matplotlib.widgets)\n",
        "\n",
        "Plotly:\n",
        "\n",
        "Interactive by defult(hover,zoom,drag,tooltips).\n",
        "\n",
        "\n",
        "2 Ease of use-\n",
        "\n",
        "Matplotlib Low-level library- requires more code for customization.\n",
        "Plotly High-level library - requires more code for customization.\n",
        "\n",
        "3 Visual appeal\n",
        "\n",
        "Mqatplotlib basic by default; needs styling to look modern. Plotly Beutiful, Publication-ready & interactive charts - out - the box.\n",
        "\n",
        "4 Supported plot Types-\n",
        "\n",
        "Matplotlib wide variety of 2D plots.\n",
        "Supports some 3D plots(via mpl_toolkits.mplot3d) but limited interactivity.\n",
        "Plotly Rich set of 2D and 3D interactive plots(statter,heatmap,surface,choropleth, etc.)\n",
        "\n",
        "\n",
        "Use Matplotlib when you need precision and control for static plots.\n",
        "\n",
        "Use Plotly when you need interactive,beutiful, and shareable visulizations.\n",
        "\n",
        "\n",
        "(10) What is the Significance of hierachical indexing in pandas ?\n",
        "\n",
        "Ans: Hierarchical indexing in pandas allows you to have multiple levels of row lebels in a DataFrame of series.\n",
        "\n",
        "The significance of hierachical indexing in pands is -\n",
        "\n",
        "1  Resntation of higher Dimensions\n",
        "\n",
        "2  Complex Grouping and aggregation\n",
        "\n",
        "3 easier Data Slicing and Selection\n",
        "\n",
        "\n",
        "\n",
        "(11) What is the role of seaborn's pairplot() function ?\n",
        "\n",
        "Ans: Seaborn's pairplot() function is used for visualizing pairwise reletionship in dataset.\n",
        "\n",
        "It plots pairwise scatterplots for numerical features in a DataFrame, so you can visually explore reletionships between variables.\n",
        "\n",
        "Along the diagonal, It usually shows a histogram or KDE(kernel Density Estimate) of each variables, giving you insight into the distribuytion.\n",
        "\n",
        "It helps detect correlations, clusters, trends,or outliers quickly.\n",
        "\n",
        "\n",
        "\n",
        "\n",
        "\n",
        "(12) What is the purpose of the describe() function in pandas ?\n",
        "\n",
        "Ans: The describe() function used for generating desscriptive statistics of a DataFrame or Series.\n",
        "\n",
        "Purpose of describe()--\n",
        "\n",
        "It provides a quick statistical summary of the data.\n",
        "\n",
        "Helps in explorotory data analysis(EDA) by showing central tendency, dispersion, and distribution shape.\n",
        "\n",
        "Works diffrently for numeric and categorical(object/string) data.\n",
        "\n",
        "\n",
        "\n",
        "\n",
        "(13) Why is handling missing data important in Pandas?\n",
        "\n",
        "ans: Handling missing data is very important becuse real-world dataset are rarely complete. if missing values are ignored, they can cause:\n",
        "\n",
        "\n",
        "There are some important Reason why is it important, these are-\n",
        "\n",
        "1  Ensure data quality- Missing values reduce reliablioty.\n",
        "\n",
        "2 Prevent errors- Many algorithms and pandas methods dont work well with NaN values.\n",
        "\n",
        "\n",
        "3 Improve model performance- Machine learning models usually require complete data.\n",
        "\n",
        "4 Avoid bias- if not handled , missing values may distort conclusions.\n",
        "\n",
        "\n",
        "\n",
        "\n",
        "(14) What are the benefits of using plotly in Data Visualization?\n",
        "\n",
        "ans: Ploty is one of the most poerful libraries for interactive data visualization in python. Unlike static libraries for interactive data visulization in python. Unlike static libraries such Matplotlib.\n",
        "\n",
        "\n",
        "There are some benefits of using plotly:\n",
        "\n",
        "1  interactive visualizations- Zoom,pan,hover tooltips, and clickable legends come by default.\n",
        "\n",
        "2 Wide variety of chart types- Supports basic charts(scatter,line,bar,pie)\n",
        "\n",
        "Advanced charts (3D plots, bubble charts, heatmaps, contour plots)\n",
        "\n",
        "3 Web integration- Plots can be rendered in Jupyter Notebook, Dash apss, or web browser.\n",
        "\n",
        "4 Publication qua;lity visuals- Clean and modern desing with customizable styles.\n",
        "\n",
        "5 Suports big data- Eficient rendering for large datast using WebGL.\n",
        "\n",
        "6 Ease of use with pandas- Works seamlessly with pandas DataFrames.\n",
        "\n",
        "7 Dash for dashboards- PLotly ineters w3ith Dash,making it possible to build interactive dashboards without javascripts.\n",
        "\n",
        "\n",
        "\n",
        "(15) How does Numpy handle multidimensional arrays ?\n",
        "\n",
        "ans: Numpy is built around the ndarray object, which is designed to efficiently handle multidimensional arrays (n-dimensional arrays). Here's how it does it:\n",
        "\n",
        "1 Uniied data structure(ndarray)\n",
        "\n",
        "ANumpy array(np.ndarray) can have any number of dimension (1D,2D, 3D,...nd)\n",
        "\n",
        "2 Shape and dimensionality- Everyv array has a shape (size along each axis) and ndim(number of dimensions).\n",
        "\n",
        "3 Efficient memory storage- Data is stored in contiguous memory blocks.\n",
        "\n",
        "Numpy uses row-major order (c-style) by default, but can also use column-major order (Fortran-style).\n",
        "\n",
        "\n",
        "4 Indexing and slicing- Multidimensional arrays can be indexed using tuples of indices.\n",
        "\n",
        "5 Broadcasting across dimensions- Numpy can automatically expand smaller arrays to match the shape of larger ones for element-wise operations.\n",
        "\n",
        "6 Vectorized operations- Operations are applied element- wise across all dimensions without explicit loops.\n",
        "\n",
        "\n",
        "\n",
        "\n",
        "\n",
        "\n",
        "(16) What is the role of Bokeh in Data visulization?\n",
        "\n",
        "ans: Bokeh is a powerful Python library for interactive data visualization, designed especially for web-based dashboards and applications.\n",
        "\n",
        "Role of Bokeh:  \n",
        "\n",
        "1  Interactive plots(not static)- Unlike Matplotlib/Seaborn, Bokeh produces interactive visualizations with zooming, panning, hovering, and tooltips.\n",
        "\n",
        "2  Web-ready visualizations- Generates visulizations as HTML,javascirpt, and JSON, so plots can be embedded directly into web pages or web app.\n",
        "\n",
        "3 Supports dashboards and applications- With Bokeh Server, you can build real-time interactive dashboards.\n",
        "\n",
        "4 Handles large/straming data - Cqan efficiently visualize millions of poiunts using WebGL.\n",
        "\n",
        "5. Wide variety vof charts- From simple to advanced visulizations.\n",
        "\n",
        "6  High customization- Offers precise control over styling, layouts, widgets, and interactivity.\n",
        "\n",
        "\n",
        "\n",
        "\n",
        "(17) Explain  the diffrence between apply() and map() in pandas ?\n",
        "\n",
        "ans: Both apply () and map() in pandas are used to apply functions to data, but they have diffrent scopes and use cases.\n",
        "\n",
        "1. map() - Works only on series(1D)\n",
        "Applies a function,dictionary, or maping to each element of the series.\n",
        "\n",
        "2. apply()- Works on both DataFrame(2D) and Series(1D).\n",
        "On a series: behaves similarly to map(), applying a function element-wise\n",
        "On a DataFrame : applies a function along rows (axis=1) or columns(axis=0)\n",
        "Can apply custom complex functions that work on rows or columns.\n",
        "\n",
        "\n",
        "\n",
        "\n",
        "(18) What are some Advanced fetures of NumPy ?\n",
        "\n",
        "ans: NumPy isn't just about basic arrays and math- it has advanced fetures that make it the backbone of scientific computing in Python. Here are Some of the important ones:\n",
        "\n",
        "1  Broadcasting- Allows arithymetic operations between arrays of diffrent shapes without explicit looping.\n",
        "\n",
        "Saves memory and compution time.\n",
        "\n",
        "Example: Adding a scalar or a 1D array to a 2D matrix automatically.\n",
        "\n",
        "\n",
        "2  Vectorization- NumPy implements operations in C-level loops internally,avoidingpython loops.\n",
        "Enables fast compution across entire arrays at once.\n",
        "Example: np.sin(arr) applies sine to every element without iteration.\n",
        "\n",
        "3 Advanced indexing & Slicing- BOolean indexing(e.g,arr[arr > 5])\n",
        "fancy indexing with arrays of indices.\n",
        "\n",
        "Multidimensional slicing.\n",
        "\n",
        "4 Masked Arrays- Handle invalid or missing values  without removing them.\n",
        "Useful for computions with incomplete dataset.\n",
        "\n",
        "5  Memory Maqpping(Large DAta Handling)- Work with arrays larger than RAM using memory-mapped files.\n",
        "Useful for big data and out-of-core computing.\n",
        "Example: np:memmap()\n",
        "\n",
        "6 Universal Functions(ufunc):\n",
        "\n",
        "Fast,vectorized implementions of element- wise operations.\n",
        "support broadcasting,type casting and output specification.\n",
        "\n",
        "\n",
        "\n",
        "\n",
        "`(19) How does Pandas simplify time series analysis?\n",
        "\n",
        "ans: Time series analysis is one of the strongest areas where pandas really shines. pandas provides a set of poerful, built-in fetures that make dealing with dates, times,and time-indexed data much easier compared to plain python or NUmpy.\n",
        "\n",
        "\n",
        "1 Date time handling - You can easily convert strings to datetime objects using pd.to_datetime().\n",
        "\n",
        "Provides the datetime index which allows indexing and slicing by time (.g., \"2023-9\", \"2023\", \"2023-09-10\").\n",
        "\n",
        "2 Resamping & Frequency conversion- Quickly change the frequency of time series data (daily-monthly,hourly-daily,etc.)\n",
        "\n",
        "Supports aggression(mean,sum,etc)when resampling.\n",
        "\n",
        "\n",
        "3 Shifting and lagging- Easily shift data forward or backward in time to create lag feturures,useful in forcasting.\n",
        "\n",
        "4 Rollling and Expanding Windows- compute moving averages, rolling sums,or custom window2 functions for trend analysis.\n",
        "\n",
        "5 Time Zone Support- Built-in-support for time zone localization.\n",
        "\n",
        "6 Built-in Plotting- Direct integration with matplotlib for quick visulization.\n",
        "\n",
        "\n",
        "\n",
        "\n",
        "\n",
        "\n",
        "(20) What is the role of a pivot tables in pandas ?\n",
        "\n",
        "Ans: 1 data Summarization- They allow you to quickly rearrange and summarize data without writing copmplex code.\n",
        "\n",
        "2 Aggregation-  By default,pivot tables compute the mean , but you can easily change it to sum, count,min,maxm,or even custom functions.\n",
        "\n",
        "3 Multi-Dimensional analysis- you can group data by one or more columns and compare across anothere column.\n",
        "\n",
        "4 Data Reshaaping- they help- transform data from long format- wide format,which is often easier to analyze.\n",
        "\n",
        "\n",
        "\n",
        "(21) Why is Numpy arrays slicing faster than python's list slicing ?\n",
        "\n",
        "ans:  1 Python lists are collections of pointers to python objects scattered in memory. When slicing , python must build a new list and copy reference one by one.\n",
        "NumPy arrays store data in a single contiguos memory block (like c arrays).\n",
        "\n",
        "A slice is just a view into the same memory with new star/stop/step information-no data is copiede.\n",
        "\n",
        "\n",
        "2 Data type consistency-\n",
        "liwsts can hold mixed data types, so each element carries metadata(type,size,reference)\n",
        "\n",
        "NumPy arrays enforce a single fixed data type.which means operations are simpler and faster becuse they dont check each element's type.\n",
        "\n",
        "\n",
        "3 Implementation Level- NumPy slicing is done at the C levvel using pointer arithmetic- very efficient.\n",
        "\n",
        "List slicing happens at the python interpretyer level,which involves more overhead.\n",
        "\n",
        "\n",
        "\n",
        "\n",
        "(22) What are some common use cases for Seabor?\n",
        "\n",
        "ans: Common use cases for Seaborn-\n",
        "1  Exploratory Data Analysis(EDA)-\n",
        "\n",
        "Quickly understand data distribution , relationships, and patterns.\n",
        "Functions like pairplot(), heatmap(), And catplot() make it easy to spot trends.\n",
        "\n",
        "2 Distribution Analysis-\n",
        "Visulizing how data is spread.\n",
        "\n",
        "Functions: histplot()-histogram\n",
        "kdeplot() kernal density estimation\n",
        "distplot()\n",
        "\n",
        "\n",
        "3 Relationship Analysis-\n",
        "Explore relationships between variables\n",
        "Functions:\n",
        "barplot() - shows mean/aggregatede values\n",
        "\n",
        "countplot-()- frequency count\n",
        "boxplot()/violinpl;ot()- sprtead of data across categories\n",
        "\n",
        "stripplot()/ swarpmplot() Raw data poiunts with jittering.\n",
        "\n",
        "\n",
        "4. Correlations & Heatmaps-\n",
        " perfect for correlation matricses and feture anaklysis.\n",
        "\n",
        " function: heatmap()\n",
        "\n",
        " 5. Time Series & Trends- lineplot(0 automatically handles confidence intervals and smoothging, making it great for trend analysis.\n",
        "\n",
        " Staistical Visulizations- Built-in support for confidence intervals,regression lines and bootstrapping.\n",
        "\n",
        "\n",
        "\n",
        "\n",
        "\n",
        "\n",
        "\n",
        "\n",
        "\n",
        "\n",
        "\n",
        "\n"
      ],
      "metadata": {
        "id": "FqTC5eW-Ldqz"
      }
    },
    {
      "cell_type": "markdown",
      "source": [
        "         \n",
        "                     -- Praxctical Question And Answer--\n",
        "\n",
        "\n",
        "\n",
        "1. How do you create a 2D NumPy array and calculate the sum of each row ?\n",
        "\n",
        "Ans: You can create a 2D array (matrix) using np.array () or functions like np.aranger() + reshapes().\n",
        "\n",
        "\n",
        "\n",
        "\n",
        "\n"
      ],
      "metadata": {
        "id": "G15boX55kCEm"
      }
    },
    {
      "cell_type": "code",
      "source": [
        "import numpy as np\n",
        "\n",
        "# Examplwe : 2D array (3*3)\n",
        "arr = np.array([[1, 2, 3]),\n",
        "               [4, 5, 6]\n",
        "               [7, 8, 9]]\n",
        "  print(\"Array: \\n\", arr)"
      ],
      "metadata": {
        "id": "ZehScEVvriJz"
      },
      "execution_count": null,
      "outputs": []
    },
    {
      "cell_type": "markdown",
      "source": [
        "Calculating the sum of Each Row\n",
        "use np.sum() with axis = 1 (row-wise)."
      ],
      "metadata": {
        "id": "Na18zdJLslgx"
      }
    },
    {
      "cell_type": "code",
      "source": [
        "import numpy as np\n",
        "\n",
        "# Examplwe : 2D array (3*3)\n",
        "arr = np.array([[1, 2, 3],\n",
        "               [4, 5, 6],\n",
        "               [7, 8, 9]])\n",
        "\n",
        "row_sum = np.sum(arr, axis=1)\n",
        "print(\"Row sums:\")\n",
        "print(row_sum)"
      ],
      "metadata": {
        "colab": {
          "base_uri": "https://localhost:8080/"
        },
        "id": "V-uDEL6Os6P4",
        "outputId": "df7b68a2-a898-46b8-82db-690e00baa085"
      },
      "execution_count": null,
      "outputs": [
        {
          "output_type": "stream",
          "name": "stdout",
          "text": [
            "Row sums:\n",
            "[ 6 15 24]\n"
          ]
        }
      ]
    },
    {
      "cell_type": "markdown",
      "source": [
        "In short- Create 2D array - np.array()\n",
        "\n",
        "Row sums - np.sum(arr,)"
      ],
      "metadata": {
        "id": "4RajkBAlvnBv"
      }
    },
    {
      "cell_type": "markdown",
      "source": [
        "2. Write a Pandas script to find the mean of the specific column in a Data Frame ?\n",
        "\n",
        "Ans :"
      ],
      "metadata": {
        "id": "pa9RlOEmvzH9"
      }
    },
    {
      "cell_type": "code",
      "source": [
        "import pandas as pd\n",
        "# sample DataFrame\n",
        "data = { \"name\": [\"Alice\", \"Bob\", \"Charlie\", \"David\"],\n",
        "\"Age\": [25, 30, 35, 40],\n",
        "\"Salary\": [50000, 60000, 70000, 800000]}\n",
        "\n",
        "df = pd.DataFrame(data)\n",
        "\n",
        "# find the mean of a specific column, e.g, \"salary\"\n",
        "mean_salary = df[\"Salary\"].mean()\n",
        "print(\"Mean salary:\", mean_salary)\n",
        "\n",
        "# Another example: mean of \"Age\"\n",
        "mean_age = df[\"Age\"].mean()\n",
        "print(\"Mean age:\", mean_age)"
      ],
      "metadata": {
        "colab": {
          "base_uri": "https://localhost:8080/"
        },
        "id": "fVnQgmoHzIy1",
        "outputId": "4491a51c-cec7-4a66-a3f4-6da759696368"
      },
      "execution_count": null,
      "outputs": [
        {
          "output_type": "stream",
          "name": "stdout",
          "text": [
            "Mean salary: 245000.0\n",
            "Mean age: 32.5\n"
          ]
        }
      ]
    },
    {
      "cell_type": "markdown",
      "source": [
        "In short To find the mean of a column in Pandas-\n",
        "df[\"column_name\"].mean()"
      ],
      "metadata": {
        "id": "qhlqa-qb0hqD"
      }
    },
    {
      "cell_type": "markdown",
      "source": [
        "3. Create a scatter Plot using Matplotlib."
      ],
      "metadata": {
        "id": "CLWDH8g90ymJ"
      }
    },
    {
      "cell_type": "code",
      "source": [
        "import matplotlib.pyplot as plt\n",
        "\n",
        "# sample data\n",
        "x = [ 5, 7, 8, 7, 6, 9, 5, 6, 7, 8]\n",
        "y = [99, 86, 87, 88, 100, 86, 103, 87, 94, 78]\n",
        "\n",
        "# Create scatter plot\n",
        "plt.scatter(x, y)\n",
        "\n",
        "# Add labels and title\n",
        "plt.xlabel(\"X-axis\")\n",
        "plt.ylabel(\"Y-axis\")\n",
        "plt.title(\"Scatter Plot\")\n",
        "\n",
        "# Display the plot\n",
        "plt.show()"
      ],
      "metadata": {
        "colab": {
          "base_uri": "https://localhost:8080/",
          "height": 472
        },
        "id": "WOyRzA221CTg",
        "outputId": "8d0167fb-c585-4779-9547-f6c71800f2fd"
      },
      "execution_count": null,
      "outputs": [
        {
          "output_type": "display_data",
          "data": {
            "text/plain": [
              "<Figure size 640x480 with 1 Axes>"
            ],
            "image/png": "[encoded data removed]"
          },
          "metadata": {}
        }
      ]
    },
    {
      "cell_type": "markdown",
      "source": [
        "4. How do you calculate the correlation matrix using Seaborn and visualize it with a heatmap ?"
      ],
      "metadata": {
        "id": "GcLv_CDv1xVJ"
      }
    },
    {
      "cell_type": "code",
      "source": [
        "import pandas as pd\n",
        "import seaborn as sns\n",
        "import matplotlib.pyplot as plt\n",
        "\n",
        "# sample DataFrame\n",
        "data = {\"Age\": [25, 30, 35, 40, 45]}\n",
        "df = pd.DataFrame(data)\n",
        "\n",
        "# Calculate the correlation matrix\n",
        "correlation_matrix = df.corr()\n",
        "\n",
        "# Visualize the correlation matrix using a heatmap\n",
        "sns.heatmap(correlation_matrix, annot=True, cmap=\"coolwarm\")"
      ],
      "metadata": {
        "colab": {
          "base_uri": "https://localhost:8080/",
          "height": 452
        },
        "id": "QyW8KjmL2SUW",
        "outputId": "382c21ec-508a-4521-8f1a-c579fb49cf01"
      },
      "execution_count": null,
      "outputs": [
        {
          "output_type": "execute_result",
          "data": {
            "text/plain": [
              "<Axes: >"
            ]
          },
          "metadata": {},
          "execution_count": 7
        },
        {
          "output_type": "display_data",
          "data": {
            "text/plain": [
              "<Figure size 640x480 with 2 Axes>"
            ],
            "image/png": "[encoded data removed]"
          },
          "metadata": {}
        }
      ]
    },
    {
      "cell_type": "markdown",
      "source": [
        "5. Generate a bar plot using plotly ."
      ],
      "metadata": {
        "id": "YT2cVGzK22f9"
      }
    },
    {
      "cell_type": "code",
      "source": [
        "import plotly.express as px\n",
        "import pandas as pd\n",
        "\n",
        "#sample Data\n",
        "data = {\"Department\": [\"Sales\", \"HR\", \"IT\", \"Finance\"], \"Employees\": [50, 20, 30, 15,]}\n",
        "df = pd.DataFrame(data)\n",
        "\n",
        "# Create a bar plot using Plotly\n",
        "fig = px.bar(df, x=\"Department\", y=\"Employees\", title=\"Employee Count by Department\")\n",
        "fig.show()"
      ],
      "metadata": {
        "colab": {
          "base_uri": "https://localhost:8080/",
          "height": 542
        },
        "id": "SesCFysy2-dW",
        "outputId": "287f0bd8-0eef-4267-eeaf-cfa2aea92bd3"
      },
      "execution_count": null,
      "outputs": [
        {
          "output_type": "display_data",
          "data": {
            "text/html": [
              "<html>\n",
              "<head><meta charset=\"utf-8\" /></head>\n",
              "<body>\n",
              "    <div>            <script src=\"https://cdnjs.cloudflare.com/ajax/libs/mathjax/2.7.5/MathJax.js?config=TeX-AMS-MML_SVG\"></script><script type=\"text/javascript\">if (window.MathJax && window.MathJax.Hub && window.MathJax.Hub.Config) {window.MathJax.Hub.Config({SVG: {font: \"STIX-Web\"}});}</script>                <script type=\"text/javascript\">window.PlotlyConfig = {MathJaxConfig: 'local'};</script>\n",
              "        <script charset=\"utf-8\" src=\"https://cdn.plot.ly/plotly-2.35.2.min.js\"></script>                <div id=\"f8b0b800-68cf-47b2-8c72-d60baaf1c6ae\" class=\"plotly-graph-div\" style=\"height:525px; width:100%;\"></div>            <script type=\"text/javascript\">                                    window.PLOTLYENV=window.PLOTLYENV || {};                                    if (document.getElementById(\"f8b0b800-68cf-47b2-8c72-d60baaf1c6ae\")) {                    Plotly.newPlot(                        \"f8b0b800-68cf-47b2-8c72-d60baaf1c6ae\",                        [{\"alignmentgroup\":\"True\",\"hovertemplate\":\"Department=%{x}\\u003cbr\\u003eEmployees=%{y}\\u003cextra\\u003e\\u003c\\u002fextra\\u003e\",\"legendgroup\":\"\",\"marker\":{\"color\":\"#636efa\",\"pattern\":{\"shape\":\"\"}},\"name\":\"\",\"offsetgroup\":\"\",\"orientation\":\"v\",\"showlegend\":false,\"textposition\":\"auto\",\"x\":[\"Sales\",\"HR\",\"IT\",\"Finance\"],\"xaxis\":\"x\",\"y\":[50,20,30,15],\"yaxis\":\"y\",\"type\":\"bar\"}],                        {\"template\":{\"data\":{\"histogram2dcontour\":[{\"type\":\"histogram2dcontour\",\"colorbar\":{\"outlinewidth\":0,\"ticks\":\"\"},\"colorscale\":[[0.0,\"#0d0887\"],[0.1111111111111111,\"#46039f\"],[0.2222222222222222,\"#7201a8\"],[0.3333333333333333,\"#9c179e\"],[0.4444444444444444,\"#bd3786\"],[0.5555555555555556,\"#d8576b\"],[0.6666666666666666,\"#ed7953\"],[0.7777777777777778,\"#fb9f3a\"],[0.8888888888888888,\"#fdca26\"],[1.0,\"#f0f921\"]]}],\"choropleth\":[{\"type\":\"choropleth\",\"colorbar\":{\"outlinewidth\":0,\"ticks\":\"\"}}],\"histogram2d\":[{\"type\":\"histogram2d\",\"colorbar\":{\"outlinewidth\":0,\"ticks\":\"\"},\"colorscale\":[[0.0,\"#0d0887\"],[0.1111111111111111,\"#46039f\"],[0.2222222222222222,\"#7201a8\"],[0.3333333333333333,\"#9c179e\"],[0.4444444444444444,\"#bd3786\"],[0.5555555555555556,\"#d8576b\"],[0.6666666666666666,\"#ed7953\"],[0.7777777777777778,\"#fb9f3a\"],[0.8888888888888888,\"#fdca26\"],[1.0,\"#f0f921\"]]}],\"heatmap\":[{\"type\":\"heatmap\",\"colorbar\":{\"outlinewidth\":0,\"ticks\":\"\"},\"colorscale\":[[0.0,\"#0d0887\"],[0.1111111111111111,\"#46039f\"],[0.2222222222222222,\"#7201a8\"],[0.3333333333333333,\"#9c179e\"],[0.4444444444444444,\"#bd3786\"],[0.5555555555555556,\"#d8576b\"],[0.6666666666666666,\"#ed7953\"],[0.7777777777777778,\"#fb9f3a\"],[0.8888888888888888,\"#fdca26\"],[1.0,\"#f0f921\"]]}],\"heatmapgl\":[{\"type\":\"heatmapgl\",\"colorbar\":{\"outlinewidth\":0,\"ticks\":\"\"},\"colorscale\":[[0.0,\"#0d0887\"],[0.1111111111111111,\"#46039f\"],[0.2222222222222222,\"#7201a8\"],[0.3333333333333333,\"#9c179e\"],[0.4444444444444444,\"#bd3786\"],[0.5555555555555556,\"#d8576b\"],[0.6666666666666666,\"#ed7953\"],[0.7777777777777778,\"#fb9f3a\"],[0.8888888888888888,\"#fdca26\"],[1.0,\"#f0f921\"]]}],\"contourcarpet\":[{\"type\":\"contourcarpet\",\"colorbar\":{\"outlinewidth\":0,\"ticks\":\"\"}}],\"contour\":[{\"type\":\"contour\",\"colorbar\":{\"outlinewidth\":0,\"ticks\":\"\"},\"colorscale\":[[0.0,\"#0d0887\"],[0.1111111111111111,\"#46039f\"],[0.2222222222222222,\"#7201a8\"],[0.3333333333333333,\"#9c179e\"],[0.4444444444444444,\"#bd3786\"],[0.5555555555555556,\"#d8576b\"],[0.6666666666666666,\"#ed7953\"],[0.7777777777777778,\"#fb9f3a\"],[0.8888888888888888,\"#fdca26\"],[1.0,\"#f0f921\"]]}],\"surface\":[{\"type\":\"surface\",\"colorbar\":{\"outlinewidth\":0,\"ticks\":\"\"},\"colorscale\":[[0.0,\"#0d0887\"],[0.1111111111111111,\"#46039f\"],[0.2222222222222222,\"#7201a8\"],[0.3333333333333333,\"#9c179e\"],[0.4444444444444444,\"#bd3786\"],[0.5555555555555556,\"#d8576b\"],[0.6666666666666666,\"#ed7953\"],[0.7777777777777778,\"#fb9f3a\"],[0.8888888888888888,\"#fdca26\"],[1.0,\"#f0f921\"]]}],\"mesh3d\":[{\"type\":\"mesh3d\",\"colorbar\":{\"outlinewidth\":0,\"ticks\":\"\"}}],\"scatter\":[{\"fillpattern\":{\"fillmode\":\"overlay\",\"size\":10,\"solidity\":0.2},\"type\":\"scatter\"}],\"parcoords\":[{\"type\":\"parcoords\",\"line\":{\"colorbar\":{\"outlinewidth\":0,\"ticks\":\"\"}}}],\"scatterpolargl\":[{\"type\":\"scatterpolargl\",\"marker\":{\"colorbar\":{\"outlinewidth\":0,\"ticks\":\"\"}}}],\"bar\":[{\"error_x\":{\"color\":\"#2a3f5f\"},\"error_y\":{\"color\":\"#2a3f5f\"},\"marker\":{\"line\":{\"color\":\"#E5ECF6\",\"width\":0.5},\"pattern\":{\"fillmode\":\"overlay\",\"size\":10,\"solidity\":0.2}},\"type\":\"bar\"}],\"scattergeo\":[{\"type\":\"scattergeo\",\"marker\":{\"colorbar\":{\"outlinewidth\":0,\"ticks\":\"\"}}}],\"scatterpolar\":[{\"type\":\"scatterpolar\",\"marker\":{\"colorbar\":{\"outlinewidth\":0,\"ticks\":\"\"}}}],\"histogram\":[{\"marker\":{\"pattern\":{\"fillmode\":\"overlay\",\"size\":10,\"solidity\":0.2}},\"type\":\"histogram\"}],\"scattergl\":[{\"type\":\"scattergl\",\"marker\":{\"colorbar\":{\"outlinewidth\":0,\"ticks\":\"\"}}}],\"scatter3d\":[{\"type\":\"scatter3d\",\"line\":{\"colorbar\":{\"outlinewidth\":0,\"ticks\":\"\"}},\"marker\":{\"colorbar\":{\"outlinewidth\":0,\"ticks\":\"\"}}}],\"scattermapbox\":[{\"type\":\"scattermapbox\",\"marker\":{\"colorbar\":{\"outlinewidth\":0,\"ticks\":\"\"}}}],\"scatterternary\":[{\"type\":\"scatterternary\",\"marker\":{\"colorbar\":{\"outlinewidth\":0,\"ticks\":\"\"}}}],\"scattercarpet\":[{\"type\":\"scattercarpet\",\"marker\":{\"colorbar\":{\"outlinewidth\":0,\"ticks\":\"\"}}}],\"carpet\":[{\"aaxis\":{\"endlinecolor\":\"#2a3f5f\",\"gridcolor\":\"white\",\"linecolor\":\"white\",\"minorgridcolor\":\"white\",\"startlinecolor\":\"#2a3f5f\"},\"baxis\":{\"endlinecolor\":\"#2a3f5f\",\"gridcolor\":\"white\",\"linecolor\":\"white\",\"minorgridcolor\":\"white\",\"startlinecolor\":\"#2a3f5f\"},\"type\":\"carpet\"}],\"table\":[{\"cells\":{\"fill\":{\"color\":\"#EBF0F8\"},\"line\":{\"color\":\"white\"}},\"header\":{\"fill\":{\"color\":\"#C8D4E3\"},\"line\":{\"color\":\"white\"}},\"type\":\"table\"}],\"barpolar\":[{\"marker\":{\"line\":{\"color\":\"#E5ECF6\",\"width\":0.5},\"pattern\":{\"fillmode\":\"overlay\",\"size\":10,\"solidity\":0.2}},\"type\":\"barpolar\"}],\"pie\":[{\"automargin\":true,\"type\":\"pie\"}]},\"layout\":{\"autotypenumbers\":\"strict\",\"colorway\":[\"#636efa\",\"#EF553B\",\"#00cc96\",\"#ab63fa\",\"#FFA15A\",\"#19d3f3\",\"#FF6692\",\"#B6E880\",\"#FF97FF\",\"#FECB52\"],\"font\":{\"color\":\"#2a3f5f\"},\"hovermode\":\"closest\",\"hoverlabel\":{\"align\":\"left\"},\"paper_bgcolor\":\"white\",\"plot_bgcolor\":\"#E5ECF6\",\"polar\":{\"bgcolor\":\"#E5ECF6\",\"angularaxis\":{\"gridcolor\":\"white\",\"linecolor\":\"white\",\"ticks\":\"\"},\"radialaxis\":{\"gridcolor\":\"white\",\"linecolor\":\"white\",\"ticks\":\"\"}},\"ternary\":{\"bgcolor\":\"#E5ECF6\",\"aaxis\":{\"gridcolor\":\"white\",\"linecolor\":\"white\",\"ticks\":\"\"},\"baxis\":{\"gridcolor\":\"white\",\"linecolor\":\"white\",\"ticks\":\"\"},\"caxis\":{\"gridcolor\":\"white\",\"linecolor\":\"white\",\"ticks\":\"\"}},\"coloraxis\":{\"colorbar\":{\"outlinewidth\":0,\"ticks\":\"\"}},\"colorscale\":{\"sequential\":[[0.0,\"#0d0887\"],[0.1111111111111111,\"#46039f\"],[0.2222222222222222,\"#7201a8\"],[0.3333333333333333,\"#9c179e\"],[0.4444444444444444,\"#bd3786\"],[0.5555555555555556,\"#d8576b\"],[0.6666666666666666,\"#ed7953\"],[0.7777777777777778,\"#fb9f3a\"],[0.8888888888888888,\"#fdca26\"],[1.0,\"#f0f921\"]],\"sequentialminus\":[[0.0,\"#0d0887\"],[0.1111111111111111,\"#46039f\"],[0.2222222222222222,\"#7201a8\"],[0.3333333333333333,\"#9c179e\"],[0.4444444444444444,\"#bd3786\"],[0.5555555555555556,\"#d8576b\"],[0.6666666666666666,\"#ed7953\"],[0.7777777777777778,\"#fb9f3a\"],[0.8888888888888888,\"#fdca26\"],[1.0,\"#f0f921\"]],\"diverging\":[[0,\"#8e0152\"],[0.1,\"#c51b7d\"],[0.2,\"#de77ae\"],[0.3,\"#f1b6da\"],[0.4,\"#fde0ef\"],[0.5,\"#f7f7f7\"],[0.6,\"#e6f5d0\"],[0.7,\"#b8e186\"],[0.8,\"#7fbc41\"],[0.9,\"#4d9221\"],[1,\"#276419\"]]},\"xaxis\":{\"gridcolor\":\"white\",\"linecolor\":\"white\",\"ticks\":\"\",\"title\":{\"standoff\":15},\"zerolinecolor\":\"white\",\"automargin\":true,\"zerolinewidth\":2},\"yaxis\":{\"gridcolor\":\"white\",\"linecolor\":\"white\",\"ticks\":\"\",\"title\":{\"standoff\":15},\"zerolinecolor\":\"white\",\"automargin\":true,\"zerolinewidth\":2},\"scene\":{\"xaxis\":{\"backgroundcolor\":\"#E5ECF6\",\"gridcolor\":\"white\",\"linecolor\":\"white\",\"showbackground\":true,\"ticks\":\"\",\"zerolinecolor\":\"white\",\"gridwidth\":2},\"yaxis\":{\"backgroundcolor\":\"#E5ECF6\",\"gridcolor\":\"white\",\"linecolor\":\"white\",\"showbackground\":true,\"ticks\":\"\",\"zerolinecolor\":\"white\",\"gridwidth\":2},\"zaxis\":{\"backgroundcolor\":\"#E5ECF6\",\"gridcolor\":\"white\",\"linecolor\":\"white\",\"showbackground\":true,\"ticks\":\"\",\"zerolinecolor\":\"white\",\"gridwidth\":2}},\"shapedefaults\":{\"line\":{\"color\":\"#2a3f5f\"}},\"annotationdefaults\":{\"arrowcolor\":\"#2a3f5f\",\"arrowhead\":0,\"arrowwidth\":1},\"geo\":{\"bgcolor\":\"white\",\"landcolor\":\"#E5ECF6\",\"subunitcolor\":\"white\",\"showland\":true,\"showlakes\":true,\"lakecolor\":\"white\"},\"title\":{\"x\":0.05},\"mapbox\":{\"style\":\"light\"}}},\"xaxis\":{\"anchor\":\"y\",\"domain\":[0.0,1.0],\"title\":{\"text\":\"Department\"}},\"yaxis\":{\"anchor\":\"x\",\"domain\":[0.0,1.0],\"title\":{\"text\":\"Employees\"}},\"legend\":{\"tracegroupgap\":0},\"title\":{\"text\":\"Employee Count by Department\"},\"barmode\":\"relative\"},                        {\"responsive\": true}                    ).then(function(){\n",
              "                            \n",
              "var gd = document.getElementById('f8b0b800-68cf-47b2-8c72-d60baaf1c6ae');\n",
              "var x = new MutationObserver(function (mutations, observer) {{\n",
              "        var display = window.getComputedStyle(gd).display;\n",
              "        if (!display || display === 'none') {{\n",
              "            console.log([gd, 'removed!']);\n",
              "            Plotly.purge(gd);\n",
              "            observer.disconnect();\n",
              "        }}\n",
              "}});\n",
              "\n",
              "// Listen for the removal of the full notebook cells\n",
              "var notebookContainer = gd.closest('#notebook-container');\n",
              "if (notebookContainer) {{\n",
              "    x.observe(notebookContainer, {childList: true});\n",
              "}}\n",
              "\n",
              "// Listen for the clearing of the current output cell\n",
              "var outputEl = gd.closest('.output');\n",
              "if (outputEl) {{\n",
              "    x.observe(outputEl, {childList: true});\n",
              "}}\n",
              "\n",
              "                        })                };                            </script>        </div>\n",
              "</body>\n",
              "</html>"
            ]
          },
          "metadata": {}
        }
      ]
    },
    {
      "cell_type": "markdown",
      "source": [
        "6. Create a DataFrame and Add a New column based on a existing column ."
      ],
      "metadata": {
        "id": "YBr94zJ63-jX"
      }
    },
    {
      "cell_type": "code",
      "source": [
        "import pandas as pd\n",
        "\n",
        "# create a sample DataFrame\n",
        "data = {\"name\": [\"Alice\", \"Bob\", \"Charlie\", \"David\"], \"Salary\": [50000, 60000, 70000, 80000]}\n",
        "df = pd.DataFrame(data)\n",
        "print(\"original DataFrame:\")\n",
        "print(df)\n",
        "\n",
        "# Add a new column \"Bonus\" = 10% of Salary\n",
        "df[\"Bonus\"] = df[\"Salary\"] * 0.10\n",
        "\n",
        "# Add another column \"High Earner\" based on condition\n",
        "df[\"High Earner\"] = df[\"Salary\"] > 65000\n",
        "print(\" DataFrame with new columns:\")\n",
        "print(df)"
      ],
      "metadata": {
        "colab": {
          "base_uri": "https://localhost:8080/"
        },
        "id": "KqW0IkctEC_u",
        "outputId": "d42aea10-a2af-4ac8-93f3-d7555e2f6f8c"
      },
      "execution_count": 10,
      "outputs": [
        {
          "output_type": "stream",
          "name": "stdout",
          "text": [
            "original DataFrame:\n",
            "      name  Salary\n",
            "0    Alice   50000\n",
            "1      Bob   60000\n",
            "2  Charlie   70000\n",
            "3    David   80000\n",
            " DataFrame with new columns:\n",
            "      name  Salary   Bonus  High Earner\n",
            "0    Alice   50000  5000.0        False\n",
            "1      Bob   60000  6000.0        False\n",
            "2  Charlie   70000  7000.0         True\n",
            "3    David   80000  8000.0         True\n"
          ]
        }
      ]
    },
    {
      "cell_type": "markdown",
      "source": [
        "7. Write a program to perform element-wise multiplication of two NumPy arrays.\n",
        "\n"
      ],
      "metadata": {
        "id": "lnSgRxuMGAtW"
      }
    },
    {
      "cell_type": "code",
      "source": [
        "import numpy as np\n",
        "\n",
        "# Create two NumPy arrays\n",
        "arr1 = np.array([1, 2, 3, 4])\n",
        "arr2 = np.array([5, 6, 7, 8])\n",
        "\n",
        "# Perform element-wise multiplication\n",
        "result = arr1 * arr2\n",
        "\n",
        "print(\"Array 1:\", arr1)\n",
        "print(\"Array 2:\", arr2)\n",
        "print(\"Element-wise multiplication result:\", result)"
      ],
      "metadata": {
        "colab": {
          "base_uri": "https://localhost:8080/"
        },
        "id": "uA2SQ3AsJ8bt",
        "outputId": "f7d4b6ec-041d-4fef-fe2e-96fb6bc3e31d"
      },
      "execution_count": 12,
      "outputs": [
        {
          "output_type": "stream",
          "name": "stdout",
          "text": [
            "Array 1: [1 2 3 4]\n",
            "Array 2: [5 6 7 8]\n",
            "Element-wise multiplication result: [ 5 12 21 32]\n"
          ]
        }
      ]
    },
    {
      "cell_type": "markdown",
      "source": [
        "8. Create a Lineplot with multiple lines using Matplotlib."
      ],
      "metadata": {
        "id": "I_pYYDuNKbVM"
      }
    },
    {
      "cell_type": "code",
      "source": [
        "import matplotlib.pyplot as plt\n",
        "\n",
        "# Sample data\n",
        "x = [1, 2, 3, 4, 5]\n",
        "y1 = [5, 8, 10, 7, 6]\n",
        "y2 = [1, 3, 5, 7, 9]\n",
        "y3 = [2, 4, 6, 8, 10]\n",
        "\n",
        "# Create a line plot with multiple lines\n",
        "plt.plot(x, y1, label=\"Line 1\")\n",
        "plt.plot(x, y2, label=\"Line 2\")\n",
        "plt.plot(x, y3, label=\"Line 3\")\n",
        "\n",
        "# Add labels and title\n",
        "plt.xlabel(\"X-axis\")\n",
        "plt.ylabel(\"Y-axis\")\n",
        "plt.title(\"Multiple Line Plot\")\n",
        "plt.legend()\n",
        "\n",
        "# Display the plot\n",
        "plt.show()\n"
      ],
      "metadata": {
        "colab": {
          "base_uri": "https://localhost:8080/",
          "height": 472
        },
        "id": "kRPoY_x9LITe",
        "outputId": "147f29a7-7336-4268-9b07-d2067a0ea955"
      },
      "execution_count": 13,
      "outputs": [
        {
          "output_type": "display_data",
          "data": {
            "text/plain": [
              "<Figure size 640x480 with 1 Axes>"
            ],
            "image/png": "[encoded data removed]"
          },
          "metadata": {}
        }
      ]
    },
    {
      "cell_type": "markdown",
      "source": [
        "9. Generate a Pandas DataFrame and filter rows where column value is greater than a threshold."
      ],
      "metadata": {
        "id": "ZCB0t2uULp0b"
      }
    },
    {
      "cell_type": "code",
      "source": [
        "import pandas as pd\n",
        "\n",
        "# create sample DataFrame\n",
        "data = {\"name\": [\"Alice\", \"Bob\", \"Charlie\", \"David\"], \"Age\": [25, 30, 35, 40]}\n",
        "df = pd.DataFrame(data)\n",
        "\n",
        "# Filter rows where \"Age\" is greater than 30\n",
        "filtered_df = df[df[\"Age\"] > 30]\n",
        "print(\"Original DataFrame:\")\n",
        "print(df)\n",
        "print(\"\\nFiltered DataFrame:\")\n",
        "print(filtered_df)"
      ],
      "metadata": {
        "colab": {
          "base_uri": "https://localhost:8080/"
        },
        "id": "POq-0ZcsMfqi",
        "outputId": "f4786d2b-3017-4eb9-b01c-78378a427e60"
      },
      "execution_count": 14,
      "outputs": [
        {
          "output_type": "stream",
          "name": "stdout",
          "text": [
            "Original DataFrame:\n",
            "      name  Age\n",
            "0    Alice   25\n",
            "1      Bob   30\n",
            "2  Charlie   35\n",
            "3    David   40\n",
            "\n",
            "Filtered DataFrame:\n",
            "      name  Age\n",
            "2  Charlie   35\n",
            "3    David   40\n"
          ]
        }
      ]
    },
    {
      "cell_type": "markdown",
      "source": [
        "10. Create a Histogram using Seaborn to Visualize a distribution."
      ],
      "metadata": {
        "id": "FswGnPTgNEts"
      }
    },
    {
      "cell_type": "code",
      "source": [
        "import seaborn as sns\n",
        "import matplotlib.pyplot as plt\n",
        "import numpy as np\n",
        "\n",
        "# Generate some random data\n",
        "data = np.random.randn(1000)\n",
        "\n",
        "# Create a histogram using Seaborn\n",
        "sns.histplot(data, bins=30, kde=True)\n",
        "\n",
        "# Add labels and title\n",
        "plt.xlabel(\"Value\")\n",
        "plt.ylabel(\"Frequency\")\n",
        "plt.title(\"Histogram\")\n",
        "\n",
        "# Display the plot\n",
        "plt.show()"
      ],
      "metadata": {
        "colab": {
          "base_uri": "https://localhost:8080/",
          "height": 472
        },
        "id": "Jc6u3WDENg7C",
        "outputId": "4f086314-8464-43c5-d849-38f4d252a3a1"
      },
      "execution_count": 16,
      "outputs": [
        {
          "output_type": "display_data",
          "data": {
            "text/plain": [
              "<Figure size 640x480 with 1 Axes>"
            ],
            "image/png": "[encoded data removed]"
          },
          "metadata": {}
        }
      ]
    },
    {
      "cell_type": "markdown",
      "source": [
        "11. Perfom Matrix Multiplication using NumPy."
      ],
      "metadata": {
        "id": "WhGeZjXuOH9k"
      }
    },
    {
      "cell_type": "code",
      "source": [
        "import numpy as np\n",
        "\n",
        "# Define two matrices\n",
        "A = np.array([[1, 2, 3], [4, 5, 6]])\n",
        "\n",
        "B = np.array([[7, 8], [9, 10], [11, 12]])\n",
        "\n",
        "# Matrix Multiplication\n",
        "result = np.dot(A, B)\n",
        "\n",
        "print(\"Matrix A:\")\n",
        "print(A)\n",
        "print(\"\\nMatrix B:\")\n",
        "print(B)\n",
        "print(\"\\nMatrix Multiplication Result:\")\n",
        "print(result)"
      ],
      "metadata": {
        "colab": {
          "base_uri": "https://localhost:8080/"
        },
        "id": "o2zd0u6zOn1i",
        "outputId": "70c88d86-e675-488f-f426-501fbb4263e2"
      },
      "execution_count": 18,
      "outputs": [
        {
          "output_type": "stream",
          "name": "stdout",
          "text": [
            "Matrix A:\n",
            "[[1 2 3]\n",
            " [4 5 6]]\n",
            "\n",
            "Matrix B:\n",
            "[[ 7  8]\n",
            " [ 9 10]\n",
            " [11 12]]\n",
            "\n",
            "Matrix Multiplication Result:\n",
            "[[ 58  64]\n",
            " [139 154]]\n"
          ]
        }
      ]
    },
    {
      "cell_type": "markdown",
      "source": [
        "12. Use Pandas to load a CSV file and display it's 5 Rows."
      ],
      "metadata": {
        "id": "AHrsmFlwPls3"
      }
    },
    {
      "cell_type": "code",
      "source": [
        "import pandas as pd\n",
        "\n",
        "# Load CSV file (replace 'data.csv' with yopur filename)\n",
        "df = pd.read_csv(\"data.csv\")\n",
        "\n",
        "# Display first 5 rows\n",
        "print(df.head())"
      ],
      "metadata": {
        "collapsed": true,
        "id": "ab6XZRwrQlqB"
      },
      "execution_count": null,
      "outputs": []
    },
    {
      "cell_type": "markdown",
      "source": [
        "EXPLANATION:\n",
        "\n",
        "pd.read_csv(\"data.csv\") - read the csv into a DataFrame.\n",
        "df.head()- returns the first 5 rows by default(you can pass a number, e.g. df. head(10)."
      ],
      "metadata": {
        "id": "UR8iYBLoSxvf"
      }
    },
    {
      "cell_type": "markdown",
      "source": [
        "13. Create a 3D scatter plot using PLotly."
      ],
      "metadata": {
        "id": "jByyIKdeTS2L"
      }
    },
    {
      "cell_type": "code",
      "source": [
        "import plotly.express as px\n",
        "import pandas as pd\n",
        "\n",
        "# sample Data\n",
        "data = {\"X\": [1, 2, 3, 4, 5], \"Y\": [10, 11, 12, 13, 14], \"Z\": [5, 6, 7, 8, 9], \"Category\": [\"A\",  \"B\", \"A\", \"B\", \"A\"]}\n",
        "df = pd.DataFrame(data)\n",
        "\n",
        "# Create a 3D scatter plot using Plotly\n",
        "fig = px.scatter_3d(df, x=\"X\", y=\"Y\", z=\"Z\", color=\"Category\", title=\"3D Scatter Plot\")\n",
        "fig.show()"
      ],
      "metadata": {
        "colab": {
          "base_uri": "https://localhost:8080/",
          "height": 542
        },
        "id": "dMKr9Nx-TjVl",
        "outputId": "b3ff39bd-b25c-43db-895a-a00212ef350e"
      },
      "execution_count": 21,
      "outputs": [
        {
          "output_type": "display_data",
          "data": {
            "text/html": [
              "<html>\n",
              "<head><meta charset=\"utf-8\" /></head>\n",
              "<body>\n",
              "    <div>            <script src=\"https://cdnjs.cloudflare.com/ajax/libs/mathjax/2.7.5/MathJax.js?config=TeX-AMS-MML_SVG\"></script><script type=\"text/javascript\">if (window.MathJax && window.MathJax.Hub && window.MathJax.Hub.Config) {window.MathJax.Hub.Config({SVG: {font: \"STIX-Web\"}});}</script>                <script type=\"text/javascript\">window.PlotlyConfig = {MathJaxConfig: 'local'};</script>\n",
              "        <script charset=\"utf-8\" src=\"https://cdn.plot.ly/plotly-2.35.2.min.js\"></script>                <div id=\"b2d7d3bc-43a1-42d3-a241-1cc389bc1580\" class=\"plotly-graph-div\" style=\"height:525px; width:100%;\"></div>            <script type=\"text/javascript\">                                    window.PLOTLYENV=window.PLOTLYENV || {};                                    if (document.getElementById(\"b2d7d3bc-43a1-42d3-a241-1cc389bc1580\")) {                    Plotly.newPlot(                        \"b2d7d3bc-43a1-42d3-a241-1cc389bc1580\",                        [{\"hovertemplate\":\"Category=A\\u003cbr\\u003eX=%{x}\\u003cbr\\u003eY=%{y}\\u003cbr\\u003eZ=%{z}\\u003cextra\\u003e\\u003c\\u002fextra\\u003e\",\"legendgroup\":\"A\",\"marker\":{\"color\":\"#636efa\",\"symbol\":\"circle\"},\"mode\":\"markers\",\"name\":\"A\",\"scene\":\"scene\",\"showlegend\":true,\"x\":[1,3,5],\"y\":[10,12,14],\"z\":[5,7,9],\"type\":\"scatter3d\"},{\"hovertemplate\":\"Category=B\\u003cbr\\u003eX=%{x}\\u003cbr\\u003eY=%{y}\\u003cbr\\u003eZ=%{z}\\u003cextra\\u003e\\u003c\\u002fextra\\u003e\",\"legendgroup\":\"B\",\"marker\":{\"color\":\"#EF553B\",\"symbol\":\"circle\"},\"mode\":\"markers\",\"name\":\"B\",\"scene\":\"scene\",\"showlegend\":true,\"x\":[2,4],\"y\":[11,13],\"z\":[6,8],\"type\":\"scatter3d\"}],                        {\"template\":{\"data\":{\"histogram2dcontour\":[{\"type\":\"histogram2dcontour\",\"colorbar\":{\"outlinewidth\":0,\"ticks\":\"\"},\"colorscale\":[[0.0,\"#0d0887\"],[0.1111111111111111,\"#46039f\"],[0.2222222222222222,\"#7201a8\"],[0.3333333333333333,\"#9c179e\"],[0.4444444444444444,\"#bd3786\"],[0.5555555555555556,\"#d8576b\"],[0.6666666666666666,\"#ed7953\"],[0.7777777777777778,\"#fb9f3a\"],[0.8888888888888888,\"#fdca26\"],[1.0,\"#f0f921\"]]}],\"choropleth\":[{\"type\":\"choropleth\",\"colorbar\":{\"outlinewidth\":0,\"ticks\":\"\"}}],\"histogram2d\":[{\"type\":\"histogram2d\",\"colorbar\":{\"outlinewidth\":0,\"ticks\":\"\"},\"colorscale\":[[0.0,\"#0d0887\"],[0.1111111111111111,\"#46039f\"],[0.2222222222222222,\"#7201a8\"],[0.3333333333333333,\"#9c179e\"],[0.4444444444444444,\"#bd3786\"],[0.5555555555555556,\"#d8576b\"],[0.6666666666666666,\"#ed7953\"],[0.7777777777777778,\"#fb9f3a\"],[0.8888888888888888,\"#fdca26\"],[1.0,\"#f0f921\"]]}],\"heatmap\":[{\"type\":\"heatmap\",\"colorbar\":{\"outlinewidth\":0,\"ticks\":\"\"},\"colorscale\":[[0.0,\"#0d0887\"],[0.1111111111111111,\"#46039f\"],[0.2222222222222222,\"#7201a8\"],[0.3333333333333333,\"#9c179e\"],[0.4444444444444444,\"#bd3786\"],[0.5555555555555556,\"#d8576b\"],[0.6666666666666666,\"#ed7953\"],[0.7777777777777778,\"#fb9f3a\"],[0.8888888888888888,\"#fdca26\"],[1.0,\"#f0f921\"]]}],\"heatmapgl\":[{\"type\":\"heatmapgl\",\"colorbar\":{\"outlinewidth\":0,\"ticks\":\"\"},\"colorscale\":[[0.0,\"#0d0887\"],[0.1111111111111111,\"#46039f\"],[0.2222222222222222,\"#7201a8\"],[0.3333333333333333,\"#9c179e\"],[0.4444444444444444,\"#bd3786\"],[0.5555555555555556,\"#d8576b\"],[0.6666666666666666,\"#ed7953\"],[0.7777777777777778,\"#fb9f3a\"],[0.8888888888888888,\"#fdca26\"],[1.0,\"#f0f921\"]]}],\"contourcarpet\":[{\"type\":\"contourcarpet\",\"colorbar\":{\"outlinewidth\":0,\"ticks\":\"\"}}],\"contour\":[{\"type\":\"contour\",\"colorbar\":{\"outlinewidth\":0,\"ticks\":\"\"},\"colorscale\":[[0.0,\"#0d0887\"],[0.1111111111111111,\"#46039f\"],[0.2222222222222222,\"#7201a8\"],[0.3333333333333333,\"#9c179e\"],[0.4444444444444444,\"#bd3786\"],[0.5555555555555556,\"#d8576b\"],[0.6666666666666666,\"#ed7953\"],[0.7777777777777778,\"#fb9f3a\"],[0.8888888888888888,\"#fdca26\"],[1.0,\"#f0f921\"]]}],\"surface\":[{\"type\":\"surface\",\"colorbar\":{\"outlinewidth\":0,\"ticks\":\"\"},\"colorscale\":[[0.0,\"#0d0887\"],[0.1111111111111111,\"#46039f\"],[0.2222222222222222,\"#7201a8\"],[0.3333333333333333,\"#9c179e\"],[0.4444444444444444,\"#bd3786\"],[0.5555555555555556,\"#d8576b\"],[0.6666666666666666,\"#ed7953\"],[0.7777777777777778,\"#fb9f3a\"],[0.8888888888888888,\"#fdca26\"],[1.0,\"#f0f921\"]]}],\"mesh3d\":[{\"type\":\"mesh3d\",\"colorbar\":{\"outlinewidth\":0,\"ticks\":\"\"}}],\"scatter\":[{\"fillpattern\":{\"fillmode\":\"overlay\",\"size\":10,\"solidity\":0.2},\"type\":\"scatter\"}],\"parcoords\":[{\"type\":\"parcoords\",\"line\":{\"colorbar\":{\"outlinewidth\":0,\"ticks\":\"\"}}}],\"scatterpolargl\":[{\"type\":\"scatterpolargl\",\"marker\":{\"colorbar\":{\"outlinewidth\":0,\"ticks\":\"\"}}}],\"bar\":[{\"error_x\":{\"color\":\"#2a3f5f\"},\"error_y\":{\"color\":\"#2a3f5f\"},\"marker\":{\"line\":{\"color\":\"#E5ECF6\",\"width\":0.5},\"pattern\":{\"fillmode\":\"overlay\",\"size\":10,\"solidity\":0.2}},\"type\":\"bar\"}],\"scattergeo\":[{\"type\":\"scattergeo\",\"marker\":{\"colorbar\":{\"outlinewidth\":0,\"ticks\":\"\"}}}],\"scatterpolar\":[{\"type\":\"scatterpolar\",\"marker\":{\"colorbar\":{\"outlinewidth\":0,\"ticks\":\"\"}}}],\"histogram\":[{\"marker\":{\"pattern\":{\"fillmode\":\"overlay\",\"size\":10,\"solidity\":0.2}},\"type\":\"histogram\"}],\"scattergl\":[{\"type\":\"scattergl\",\"marker\":{\"colorbar\":{\"outlinewidth\":0,\"ticks\":\"\"}}}],\"scatter3d\":[{\"type\":\"scatter3d\",\"line\":{\"colorbar\":{\"outlinewidth\":0,\"ticks\":\"\"}},\"marker\":{\"colorbar\":{\"outlinewidth\":0,\"ticks\":\"\"}}}],\"scattermapbox\":[{\"type\":\"scattermapbox\",\"marker\":{\"colorbar\":{\"outlinewidth\":0,\"ticks\":\"\"}}}],\"scatterternary\":[{\"type\":\"scatterternary\",\"marker\":{\"colorbar\":{\"outlinewidth\":0,\"ticks\":\"\"}}}],\"scattercarpet\":[{\"type\":\"scattercarpet\",\"marker\":{\"colorbar\":{\"outlinewidth\":0,\"ticks\":\"\"}}}],\"carpet\":[{\"aaxis\":{\"endlinecolor\":\"#2a3f5f\",\"gridcolor\":\"white\",\"linecolor\":\"white\",\"minorgridcolor\":\"white\",\"startlinecolor\":\"#2a3f5f\"},\"baxis\":{\"endlinecolor\":\"#2a3f5f\",\"gridcolor\":\"white\",\"linecolor\":\"white\",\"minorgridcolor\":\"white\",\"startlinecolor\":\"#2a3f5f\"},\"type\":\"carpet\"}],\"table\":[{\"cells\":{\"fill\":{\"color\":\"#EBF0F8\"},\"line\":{\"color\":\"white\"}},\"header\":{\"fill\":{\"color\":\"#C8D4E3\"},\"line\":{\"color\":\"white\"}},\"type\":\"table\"}],\"barpolar\":[{\"marker\":{\"line\":{\"color\":\"#E5ECF6\",\"width\":0.5},\"pattern\":{\"fillmode\":\"overlay\",\"size\":10,\"solidity\":0.2}},\"type\":\"barpolar\"}],\"pie\":[{\"automargin\":true,\"type\":\"pie\"}]},\"layout\":{\"autotypenumbers\":\"strict\",\"colorway\":[\"#636efa\",\"#EF553B\",\"#00cc96\",\"#ab63fa\",\"#FFA15A\",\"#19d3f3\",\"#FF6692\",\"#B6E880\",\"#FF97FF\",\"#FECB52\"],\"font\":{\"color\":\"#2a3f5f\"},\"hovermode\":\"closest\",\"hoverlabel\":{\"align\":\"left\"},\"paper_bgcolor\":\"white\",\"plot_bgcolor\":\"#E5ECF6\",\"polar\":{\"bgcolor\":\"#E5ECF6\",\"angularaxis\":{\"gridcolor\":\"white\",\"linecolor\":\"white\",\"ticks\":\"\"},\"radialaxis\":{\"gridcolor\":\"white\",\"linecolor\":\"white\",\"ticks\":\"\"}},\"ternary\":{\"bgcolor\":\"#E5ECF6\",\"aaxis\":{\"gridcolor\":\"white\",\"linecolor\":\"white\",\"ticks\":\"\"},\"baxis\":{\"gridcolor\":\"white\",\"linecolor\":\"white\",\"ticks\":\"\"},\"caxis\":{\"gridcolor\":\"white\",\"linecolor\":\"white\",\"ticks\":\"\"}},\"coloraxis\":{\"colorbar\":{\"outlinewidth\":0,\"ticks\":\"\"}},\"colorscale\":{\"sequential\":[[0.0,\"#0d0887\"],[0.1111111111111111,\"#46039f\"],[0.2222222222222222,\"#7201a8\"],[0.3333333333333333,\"#9c179e\"],[0.4444444444444444,\"#bd3786\"],[0.5555555555555556,\"#d8576b\"],[0.6666666666666666,\"#ed7953\"],[0.7777777777777778,\"#fb9f3a\"],[0.8888888888888888,\"#fdca26\"],[1.0,\"#f0f921\"]],\"sequentialminus\":[[0.0,\"#0d0887\"],[0.1111111111111111,\"#46039f\"],[0.2222222222222222,\"#7201a8\"],[0.3333333333333333,\"#9c179e\"],[0.4444444444444444,\"#bd3786\"],[0.5555555555555556,\"#d8576b\"],[0.6666666666666666,\"#ed7953\"],[0.7777777777777778,\"#fb9f3a\"],[0.8888888888888888,\"#fdca26\"],[1.0,\"#f0f921\"]],\"diverging\":[[0,\"#8e0152\"],[0.1,\"#c51b7d\"],[0.2,\"#de77ae\"],[0.3,\"#f1b6da\"],[0.4,\"#fde0ef\"],[0.5,\"#f7f7f7\"],[0.6,\"#e6f5d0\"],[0.7,\"#b8e186\"],[0.8,\"#7fbc41\"],[0.9,\"#4d9221\"],[1,\"#276419\"]]},\"xaxis\":{\"gridcolor\":\"white\",\"linecolor\":\"white\",\"ticks\":\"\",\"title\":{\"standoff\":15},\"zerolinecolor\":\"white\",\"automargin\":true,\"zerolinewidth\":2},\"yaxis\":{\"gridcolor\":\"white\",\"linecolor\":\"white\",\"ticks\":\"\",\"title\":{\"standoff\":15},\"zerolinecolor\":\"white\",\"automargin\":true,\"zerolinewidth\":2},\"scene\":{\"xaxis\":{\"backgroundcolor\":\"#E5ECF6\",\"gridcolor\":\"white\",\"linecolor\":\"white\",\"showbackground\":true,\"ticks\":\"\",\"zerolinecolor\":\"white\",\"gridwidth\":2},\"yaxis\":{\"backgroundcolor\":\"#E5ECF6\",\"gridcolor\":\"white\",\"linecolor\":\"white\",\"showbackground\":true,\"ticks\":\"\",\"zerolinecolor\":\"white\",\"gridwidth\":2},\"zaxis\":{\"backgroundcolor\":\"#E5ECF6\",\"gridcolor\":\"white\",\"linecolor\":\"white\",\"showbackground\":true,\"ticks\":\"\",\"zerolinecolor\":\"white\",\"gridwidth\":2}},\"shapedefaults\":{\"line\":{\"color\":\"#2a3f5f\"}},\"annotationdefaults\":{\"arrowcolor\":\"#2a3f5f\",\"arrowhead\":0,\"arrowwidth\":1},\"geo\":{\"bgcolor\":\"white\",\"landcolor\":\"#E5ECF6\",\"subunitcolor\":\"white\",\"showland\":true,\"showlakes\":true,\"lakecolor\":\"white\"},\"title\":{\"x\":0.05},\"mapbox\":{\"style\":\"light\"}}},\"scene\":{\"domain\":{\"x\":[0.0,1.0],\"y\":[0.0,1.0]},\"xaxis\":{\"title\":{\"text\":\"X\"}},\"yaxis\":{\"title\":{\"text\":\"Y\"}},\"zaxis\":{\"title\":{\"text\":\"Z\"}}},\"legend\":{\"title\":{\"text\":\"Category\"},\"tracegroupgap\":0},\"title\":{\"text\":\"3D Scatter Plot\"}},                        {\"responsive\": true}                    ).then(function(){\n",
              "                            \n",
              "var gd = document.getElementById('b2d7d3bc-43a1-42d3-a241-1cc389bc1580');\n",
              "var x = new MutationObserver(function (mutations, observer) {{\n",
              "        var display = window.getComputedStyle(gd).display;\n",
              "        if (!display || display === 'none') {{\n",
              "            console.log([gd, 'removed!']);\n",
              "            Plotly.purge(gd);\n",
              "            observer.disconnect();\n",
              "        }}\n",
              "}});\n",
              "\n",
              "// Listen for the removal of the full notebook cells\n",
              "var notebookContainer = gd.closest('#notebook-container');\n",
              "if (notebookContainer) {{\n",
              "    x.observe(notebookContainer, {childList: true});\n",
              "}}\n",
              "\n",
              "// Listen for the clearing of the current output cell\n",
              "var outputEl = gd.closest('.output');\n",
              "if (outputEl) {{\n",
              "    x.observe(outputEl, {childList: true});\n",
              "}}\n",
              "\n",
              "                        })                };                            </script>        </div>\n",
              "</body>\n",
              "</html>"
            ]
          },
          "metadata": {}
        }
      ]
    }
  ]
}